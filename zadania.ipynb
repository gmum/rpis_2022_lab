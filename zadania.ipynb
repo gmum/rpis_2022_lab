{
 "cells": [
  {
   "cell_type": "markdown",
   "id": "7231ab3e",
   "metadata": {},
   "source": [
    "# Zadania \n",
    "\n",
    "### Zasady wysyłania rozwiązań zadań:\n",
    "1. **Wszystkie wysłane zadania muszą być rozwiązane samodzielnie.**\n",
    "2. Pula zadań do wyboru, dla każdego studenta, składa się ze wszystkich dotychczasowych i przyszłych zadań **komputerowych** z zestawów ćwiczeniowych oraz zadań ze slajdów z wykładów, w których treści zaznaczone jest użycie pakietu komputerowego. \n",
    "3. Za każde rozwiązane zadanie można otrzymać 0.5 punkta. \n",
    "4. Maksymalna liczba punktów do zdobycia to 4, co oznacza limit 8 zadań.\n",
    "5. Suma punuktów za rozwiązania będzie doliczana do punktów zdobytych z aktywności na ćwiczeniach.\n",
    "6. Wszystkie rozwiązania muszą znajdywać się w jednym pliku *imie_nazwisko.ipynb*.\n",
    "7. Termin wysyłania rozwiązań to 15 czerwca 2022 godzina 23:59. Rozwiązania należy przesyłać mailowo do prowadzącego zajęcia.\n",
    "\n",
    "### Uwagi techniczne:\n",
    "\n",
    "1. Każde zadanie musi być poprzedzone swoją treścią (jupyter potrafi renderować kod $\\LaTeX$ używając symboli $). Poniżej znajduję się przykładowe rozwiązanie jednego z zadań z wykładu.\n",
    "2. Kody rozwiązań powinny być czytelne oraz zawierać koimentarze opisjące kolejne kroki rozwiązania.\n",
    "3. Dozwolone jest używanie każdego z pakietów z języka Python używanych do tej pory na zajęciach, przy czym proszę trzymać się założeń zadania. Jeżeli zadanie polega na zaimplementowaniu generatora liczb losowych z zadanego rozkładu to użycie odpowiadającej klasy z pakietu `scipy.stats` nie będzie akceptowalnym rozwiązaniem.\n",
    "4. Każde rozwiązanie powinno zaczynać się od wymaganych importów, innymi słowy do poprawnego działania powinno być wymagane odpalenie tylko komórki tego rozwiązania."
   ]
  },
  {
   "cell_type": "markdown",
   "id": "15cbe656",
   "metadata": {},
   "source": [
    "## Przykład rozwiązanego zadania.\n",
    "Zadanie to wypada z puli zadań do wyboru.\n",
    "\n",
    "### Wykład Zad. 32. \n",
    "Zaprojektować i przeprowadzić eksperyment komputerowy, który weryfikuje centralne twierdzenie graniczne."
   ]
  },
  {
   "cell_type": "code",
   "execution_count": 1,
   "id": "33c375c3",
   "metadata": {},
   "outputs": [
    {
     "name": "stdout",
     "output_type": "stream",
     "text": [
      "oszacowana średnia: -0.002081798672851369\n",
      "oszacowana wariancja: 0.9977042375428572\n"
     ]
    },
    {
     "data": {
      "image/png": "[encoded data removed]",
      "text/plain": [
       "<Figure size 864x576 with 1 Axes>"
      ]
     },
     "metadata": {
      "needs_background": "light"
     },
     "output_type": "display_data"
    }
   ],
   "source": [
    "import numpy as np\n",
    "import matplotlib.pyplot as plt\n",
    "\n",
    "# parametry zadania\n",
    "n_experiments = 100000  # liczba eksperymentów\n",
    "n = 100  # liczba zdażeń w jednym eksperymencie\n",
    "p = 0.3  # prob. sukcesu jednego zdażenia\n",
    "\n",
    "# losujemy próbki\n",
    "samples = np.random.binomial(n=n, p=p, size=n_experiments)\n",
    "\n",
    "# standaryzujemy \n",
    "normed_sum = (samples - n*p) / np.sqrt(n * p * (1 - p))\n",
    "\n",
    "# wizualizujemy rozkład\n",
    "fig = plt.figure(figsize=(12,8))\n",
    "plt.hist(normed_sum, bins=40, density=True)\n",
    "\n",
    "print(f\"oszacowana średnia: {normed_sum.mean()}\\noszacowana wariancja: {normed_sum.var()}\")"
   ]
  }
 ],
 "metadata": {
  "kernelspec": {
   "display_name": "Python [conda env:cl]",
   "language": "python",
   "name": "conda-env-cl-py"
  },
  "language_info": {
   "codemirror_mode": {
    "name": "ipython",
    "version": 3
   },
   "file_extension": ".py",
   "mimetype": "text/x-python",
   "name": "python",
   "nbconvert_exporter": "python",
   "pygments_lexer": "ipython3",
   "version": "3.9.7"
  }
 },
 "nbformat": 4,
 "nbformat_minor": 5
}

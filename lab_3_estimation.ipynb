{
 "cells": [
  {
   "cell_type": "markdown",
   "id": "e9538ef7",
   "metadata": {},
   "source": [
    "# RPiS - Laboratoria #3\n",
    "Estymacja rozkładów"
   ]
  },
  {
   "cell_type": "code",
   "execution_count": null,
   "id": "4ba96878",
   "metadata": {},
   "outputs": [],
   "source": [
    "# importy i kosmetyka\n",
    "import numpy as np\n",
    "import matplotlib.pyplot as plt\n",
    "\n",
    "plt.rcParams['axes.grid'] = True  \n",
    "plt.rcParams['figure.dpi'] = 100"
   ]
  },
  {
   "cell_type": "markdown",
   "id": "4fa90d9d",
   "metadata": {},
   "source": [
    "## Estymacje punktowa momentów\n",
    "\n",
    "Wiedząc z jakiego rozkładu pochodzą nasze dane możemy łatwo oszacować parametry tego rozkładu wykorzystując znane nam własności. Na przykład dla rozkładu normalnego $\\mathcal{N}(\\mu, \\sigma^2)$ wiemy, że średnia z próbki jest dobrym estymatorem wartości oczekiwane rozkładu.\n",
    "\n",
    "$$ \\mu = \\frac{1}{N} \\sum_i^N x_i $$\n",
    "\n",
    "Mając (nawet delikatnie zaszumioną) próbke z rozkładu normalnego oszacujemy jego parametry."
   ]
  },
  {
   "cell_type": "code",
   "execution_count": null,
   "id": "b3ee323e",
   "metadata": {},
   "outputs": [],
   "source": [
    "from scipy.stats import norm\n",
    "\n",
    "# założmy rozkład normalny z mu=4.5 i sigma=2\n",
    "mu = 4.5\n",
    "sigma = 2\n",
    "dist = norm(loc=mu, scale=sigma)\n",
    "\n",
    "# wylosujmy (zaszumione) 200 przykładów z tego rozkładu\n",
    "n = 200\n",
    "noise = np.random.normal(loc=0, scale=0.05)\n",
    "samples = dist.rvs(size=n) + noise\n",
    "\n",
    "# oszacujmy momenty \n",
    "empirical_mean = samples.mean()\n",
    "empircal_std = samples.std()\n",
    "\n",
    "# zwizualizujmy próbkę za pomocą histogramu\n",
    "plt.hist(samples, bins=30, density=True)\n",
    "\n",
    "# zwizualizujmy funkcje gęstości oszacowanego i prawdziwego rozkładu\n",
    "x = np.linspace(samples.min(), samples.max(), 100)\n",
    "plt.plot(x, norm.pdf(x, loc=empirical_mean, scale=empircal_std), label='estimated')\n",
    "plt.plot(x, norm.pdf(x, loc=mu, scale=sigma), label='true')\n",
    "plt.legend()"
   ]
  },
  {
   "cell_type": "markdown",
   "id": "392ac5db",
   "metadata": {},
   "source": [
    "## Zadanie 1.\n",
    "\n",
    "Oszacuj parametr $\\lambda$ dla poniższej próbki z rozkładu wykładniczego wykorzystując zależność parametru $\\lambda$ i średniej z próbki. \n",
    "\n",
    "$$\\lambda = \\frac{1}{\\bar{x}}$$\n",
    "\n",
    "Zwizalizuj próbkę oraz gęstości prawdziwego i oszacowanego rozkładu jak w przykładzie powyżej."
   ]
  },
  {
   "cell_type": "code",
   "execution_count": null,
   "id": "b055c7f1",
   "metadata": {},
   "outputs": [],
   "source": [
    "from scipy.stats import expon\n",
    "\n",
    "# rozkład wykładniczy\n",
    "lamb = 3\n",
    "dist = expon(scale=1 / lamb)\n",
    "\n",
    "# wylosujmy (zaszumione) 200 przykładów z rozkładu\n",
    "n = 200\n",
    "noise = np.random.normal(loc=0, scale=0.05)\n",
    "samples = dist.rvs(size=n) + noise\n",
    "\n",
    "# miejsce na twoje rozwiązanie\n"
   ]
  },
  {
   "cell_type": "markdown",
   "id": "28b55288",
   "metadata": {},
   "source": [
    "## MLE - Metoda największej wiarygodności\n",
    "(Maximum Likelihood Estimation)\n",
    "\n",
    "Co jednak zrobić jeżeli nie wiemy z jakiego rozkładu pochodzi dana próbka? Dla ustalonej rodziny rozkładów i wybranej wartości parametru tego rozkładu możemy policzyć wartość funkcji wiarygodności. \n",
    "\n",
    "$$ \\mathcal{L}_{\\text{MLE}}(\\mathbf{X}, \\phi) = \\prod_{x \\in \\mathbf{X}} f(x_i, \\phi)$$\n",
    "\n",
    "gdzie $\\phi$ to dana wartość parametru, a $f$ funkcja gęstości danego rozkładu.\n",
    "\n",
    "Następnie używając gotowych funkcji do optymalizacji możemy znaleźć najbardziej \"wiarygodną\" wartość tego parametru - dla niego funkcja wiarygodności będzie miała największą wartość.\n",
    "\n",
    "$$ \\phi^* = {\\arg\\max}_{\\phi}  \\mathcal{L}_{\\text{MLE}}(\\mathbf{X}, \\phi) $$\n",
    "\n",
    "\n",
    "\n",
    "### Przykład\n",
    "Poniżej znajduje się przykład znalezienia parametru $\\sigma$ rozkładu normalnego za pomocą metody MLE przy znanej średniej $\\mu = 0$. Zastosujemy tutaj tzw. *log-trick*, ponieważ mnożenie wielu prawdopodobieństw daje bardzo małe liczby - bliskie dokładności floata - zamienimy mnożenie na sumowanie logarytmów. Jest to na tyle popularny trik, że `scipy.stats` udostępnia dla rozkładów metodę `logpdf` zwracającą od razu logarytm funkcji gęstości.\n",
    "\n",
    "$$ \\mathcal{L}_{\\text{log-MLE}}(\\mathbf{X}, \\phi) = \\sum_{x \\in \\mathbf{X}} \\log f(x_i, \\phi)$$\n",
    "\n",
    "Dodatkowo, ponieważ łatwiej jest numerycznie minimalizować niż maksymalizować zadane funkcje, zamienimy naszą funkcję *celu* na funkcję *kosztu* dodając minus przed wszystkim.\n",
    "\n",
    "$$ \\phi^* = {\\arg\\min}_{\\phi}  -\\mathcal{L}_{\\text{log-MLE}}(\\mathbf{X}, \\phi) $$\n",
    "\n",
    "W ten sposób otrzymaliśmy tzw. funkcję *negative log-likelihood* bardzo częstą użwaną w uczeniu maszynowym.\n",
    "\n",
    "Do rozwiązania użyjemy gotowego rozwiązania do szukania minimum [`scipy.optimize.minimize`](https://docs.scipy.org/doc/scipy/reference/generated/scipy.optimize.minimize.html), która przyjmuje jednoargumentową funkcje do optymalizacji i startową wartość szukanego parametru."
   ]
  },
  {
   "cell_type": "code",
   "execution_count": null,
   "id": "5a8c25c4",
   "metadata": {},
   "outputs": [],
   "source": [
    "from scipy.optimize import minimize\n",
    "\n",
    "# założmy rozkład normlany\n",
    "mu = 0\n",
    "sigma = 1.75\n",
    "dist = norm(loc=mu, scale=sigma)\n",
    "\n",
    "# wylosujmy (zaszumione) 200 przykładów z rozkładu\n",
    "n = 200\n",
    "noise = np.random.normal(loc=0, scale=0.05)\n",
    "data = dist.rvs(size=n) + noise\n",
    "\n",
    "# jako, że będziemy używać funkcji `minimize`, musimy dla niej przygotować funckję do optymalizowania\n",
    "# która przyjmuje tylko jeden argument - wartość startową szukanego parametru\n",
    "def neg_log_likelihood(phi):\n",
    "    return -np.sum(norm.logpdf(data, scale=phi))\n",
    "\n",
    "# wybierzmy startową wartość szukanego parametru \n",
    "init_sigma = 1\n",
    "\n",
    "# użyjmy funkcji `minimize`\n",
    "minimize(fun=neg_log_likelihood, x0=init_sigma)"
   ]
  },
  {
   "cell_type": "markdown",
   "id": "5b595e04",
   "metadata": {},
   "source": [
    "#### Wskazówka\n",
    "Wynik funkcji `minimize` zależy od wielu czynników, stąd warto uruchamiać ją wiele razy oraz z różnymi wartościami startowymi."
   ]
  },
  {
   "cell_type": "code",
   "execution_count": null,
   "id": "8a039cf0",
   "metadata": {},
   "outputs": [],
   "source": [
    "n_tries = 50\n",
    "best_nll = np.inf\n",
    "best_sigma = None \n",
    "\n",
    "for i in range(n_tries):\n",
    "    init_sigma = np.random.uniform(0.5, 5)\n",
    "    result = minimize(fun=neg_log_likelihood, x0=init_sigma)\n",
    "    \n",
    "    if result.fun < best_nll:\n",
    "        best_nll = result.fun\n",
    "        best_sigma = result.x\n",
    "        \n",
    "print(f\"Znalazłem sigma= {best_sigma} z NLL= {best_nll}\")"
   ]
  },
  {
   "cell_type": "markdown",
   "id": "86768b3c",
   "metadata": {},
   "source": [
    "## Zadanie 2.\n",
    "\n",
    "W pliku `data.npz` (proszę pamiętać aby ściągnąć go z repozytorium) znajdują się próbki z czterech różnych rozkładów: \n",
    "* Wykładniczy [`expon`](https://docs.scipy.org/doc/scipy/reference/generated/scipy.stats.expon.html#scipy.stats.expon) z parametrem $\\lambda$ (w kodzie `scale=1 / lamb`),\n",
    "* Gamma [`gamma`](https://docs.scipy.org/doc/scipy/reference/generated/scipy.stats.gamma.html#scipy.stats.gamma) z parametrem $a$,\n",
    "* Pół-normalny [`halfnorm`](https://docs.scipy.org/doc/scipy/reference/generated/scipy.stats.halfnorm.html#scipy.stats.halfnorm) z parametrem $\\sigma$ (w kodzie `scale=sigma`)\n",
    "* Pół-logistyczny [`halflogistic`](https://docs.scipy.org/doc/scipy/reference/generated/scipy.stats.halflogistic.html#scipy.stats.halflogistic) z parametrem $\\alpha$ (w kodzie `scale=alpha`)\n",
    "\n",
    "a) Zwizualizować za pomocą histogramu wszystkie cztery próbki. Czy potrafisz z samych wizualizacji odgadnąć z którego rozkładu pochodzi dana próbka?\n",
    "\n",
    "b) Za pomocą metody MLE (konkretnie NLL) ustalić z którego rozkładu pochodzi dana próbka, oraz oszacować wartości parametrów dla każdej z tych próbek. Jako ułatwienie poniżej podane są przedziały w których rozsądnie jest szukać wartości dla danych parametrów:\n",
    "\n",
    "* `scale` ($1 / \\lambda$) z rozkładu wykładniczego: `[0.1, 1]`\n",
    "* `a` z rozkładu Gamma: `[0.5, 6]`\n",
    "* `scale` ($\\sigma$) z rozkładu pół-normalnego: `[0.5, 10]`\n",
    "* `scale` ($\\alpha$) z rozkładu pół-logistycznego: `[0.5, 6]`"
   ]
  },
  {
   "cell_type": "code",
   "execution_count": null,
   "id": "2e16a25d",
   "metadata": {},
   "outputs": [],
   "source": [
    "from scipy.stats import expon, gamma, halfnorm, halflogistic\n",
    "\n",
    "data = np.load('data.npz')\n",
    "\n",
    "print(list(data.keys()))\n",
    "\n",
    "data_1 = data['data_1']\n",
    "data_2 = data['data_2']\n",
    "data_3 = data['data_3']\n",
    "data_4 = data['data_4']\n",
    "\n",
    "print(f\"Rozmiar próbki `data_1`: {data_1.shape}\")"
   ]
  },
  {
   "cell_type": "code",
   "execution_count": null,
   "id": "c9e48023",
   "metadata": {},
   "outputs": [],
   "source": [
    "# a) histogramy próbek"
   ]
  },
  {
   "cell_type": "code",
   "execution_count": null,
   "id": "5089a12a",
   "metadata": {},
   "outputs": [],
   "source": [
    "# b) oczacowanie rozkładów i ich parametrów"
   ]
  }
 ],
 "metadata": {
  "kernelspec": {
   "display_name": "Python [conda env:cl]",
   "language": "python",
   "name": "conda-env-cl-py"
  },
  "language_info": {
   "codemirror_mode": {
    "name": "ipython",
    "version": 3
   },
   "file_extension": ".py",
   "mimetype": "text/x-python",
   "name": "python",
   "nbconvert_exporter": "python",
   "pygments_lexer": "ipython3",
   "version": "3.9.7"
  }
 },
 "nbformat": 4,
 "nbformat_minor": 5
}
